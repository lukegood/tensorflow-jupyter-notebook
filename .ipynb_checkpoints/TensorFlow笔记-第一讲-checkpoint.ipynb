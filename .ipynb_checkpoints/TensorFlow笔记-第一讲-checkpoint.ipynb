{
 "cells": [
  {
   "cell_type": "code",
   "execution_count": 1,
   "metadata": {},
   "outputs": [],
   "source": [
    "import tensorflow as tf"
   ]
  },
  {
   "cell_type": "code",
   "execution_count": 2,
   "metadata": {},
   "outputs": [
    {
     "name": "stdout",
     "output_type": "stream",
     "text": [
      "tf.Tensor([1 5], shape=(2,), dtype=int64)\n",
      "<dtype: 'int64'>\n",
      "(2,)\n"
     ]
    }
   ],
   "source": [
    "a = tf.constant([1, 5], dtype = tf.int64)\n",
    "print(a)\n",
    "print(a.dtype)\n",
    "print(a.shape)"
   ]
  },
  {
   "cell_type": "markdown",
   "metadata": {},
   "source": [
    "> shape中逗号隔开几个数字，就是几维。"
   ]
  },
  {
   "cell_type": "code",
   "execution_count": 3,
   "metadata": {},
   "outputs": [],
   "source": [
    "import numpy as np"
   ]
  },
  {
   "cell_type": "code",
   "execution_count": 6,
   "metadata": {},
   "outputs": [
    {
     "name": "stdout",
     "output_type": "stream",
     "text": [
      "[0 1 2 3 4]\n",
      "tf.Tensor([0 1 2 3 4], shape=(5,), dtype=int64)\n"
     ]
    }
   ],
   "source": [
    "a = np.arange(0, 5)\n",
    "b = tf.convert_to_tensor(a, dtype = tf.int64)\n",
    "print(a)\n",
    "print(b)"
   ]
  },
  {
   "cell_type": "markdown",
   "metadata": {},
   "source": [
    "> tf.convert_to_tensor将numpy格式转为张量，两个参数分别是数据名和类型。"
   ]
  },
  {
   "cell_type": "markdown",
   "metadata": {},
   "source": [
    "## 如何创建一个张量"
   ]
  },
  {
   "cell_type": "code",
   "execution_count": 7,
   "metadata": {},
   "outputs": [
    {
     "name": "stdout",
     "output_type": "stream",
     "text": [
      "tf.Tensor(\n",
      "[[0. 0.]\n",
      " [0. 0.]], shape=(2, 2), dtype=float32)\n",
      "tf.Tensor([1. 1. 1. 1.], shape=(4,), dtype=float32)\n",
      "tf.Tensor(\n",
      "[[9 9 9]\n",
      " [9 9 9]\n",
      " [9 9 9]], shape=(3, 3), dtype=int32)\n"
     ]
    }
   ],
   "source": [
    "a = tf.zeros([2, 2])\n",
    "b = tf.ones(4)\n",
    "c = tf.fill([3,3], 9)\n",
    "print(a)\n",
    "print(b)\n",
    "print(c)"
   ]
  },
  {
   "cell_type": "code",
   "execution_count": 9,
   "metadata": {},
   "outputs": [
    {
     "name": "stdout",
     "output_type": "stream",
     "text": [
      "tf.Tensor(\n",
      "[[0.44468048 0.5114101 ]\n",
      " [0.3226295  2.6347578 ]], shape=(2, 2), dtype=float32)\n",
      "tf.Tensor(\n",
      "[[1.3241434  1.270691  ]\n",
      " [0.35826704 0.04361027]], shape=(2, 2), dtype=float32)\n"
     ]
    }
   ],
   "source": [
    "a = tf.random.normal([2, 2], mean = 0.5, stddev = 1)\n",
    "b = tf.random.truncated_normal([2, 2], mean = 0.5, stddev = 1)\n",
    "print(a)\n",
    "print(b)"
   ]
  },
  {
   "cell_type": "markdown",
   "metadata": {},
   "source": [
    "> random.normal的参数分别是维度，均值，标准差。random.truncated_normal可以保证生成的随机数在正负2个标准差之内。"
   ]
  },
  {
   "cell_type": "code",
   "execution_count": 14,
   "metadata": {},
   "outputs": [
    {
     "name": "stdout",
     "output_type": "stream",
     "text": [
      "tf.Tensor(\n",
      "[[0.11616158 0.1039319 ]\n",
      " [0.87229264 0.4636017 ]], shape=(2, 2), dtype=float32)\n"
     ]
    }
   ],
   "source": [
    "a = tf.random.uniform([2, 2], minval = 0, maxval = 1)\n",
    "print(a)"
   ]
  },
  {
   "cell_type": "markdown",
   "metadata": {},
   "source": [
    "> random.uniform的参数分别是维度，最小值，最大值，生成一个左闭右开区间的服从均匀分布的指定维度的张量。"
   ]
  },
  {
   "cell_type": "code",
   "execution_count": 15,
   "metadata": {},
   "outputs": [
    {
     "name": "stdout",
     "output_type": "stream",
     "text": [
      "tf.Tensor(1, shape=(), dtype=int32) tf.Tensor(3, shape=(), dtype=int32)\n"
     ]
    }
   ],
   "source": [
    "x1 = tf.constant([1, 2, 3], dtype = tf.int64)\n",
    "x2 = tf.cast(x1, dtype = tf.int32)\n",
    "print(tf.reduce_min(x2), tf.reduce_max(x2))"
   ]
  },
  {
   "cell_type": "markdown",
   "metadata": {},
   "source": [
    "> cast表示强制类型转换，参数分别是张量名和要转为的类型。\n",
    "\n",
    "> reduce_min找出向量所有元素里的最小值，max找出最大值。"
   ]
  },
  {
   "cell_type": "code",
   "execution_count": 16,
   "metadata": {},
   "outputs": [
    {
     "name": "stdout",
     "output_type": "stream",
     "text": [
      "tf.Tensor([2 3 4], shape=(3,), dtype=int64) tf.Tensor([ 6 15], shape=(2,), dtype=int64)\n"
     ]
    }
   ],
   "source": [
    "x = tf.constant([[1, 2, 3], [4, 5, 6]], dtype = tf.int64)\n",
    "x1 = tf.reduce_mean(x, axis = 0)\n",
    "x2 = tf.reduce_sum(x, axis = 1)\n",
    "print(x1, x2)"
   ]
  },
  {
   "cell_type": "markdown",
   "metadata": {},
   "source": [
    "> axis指定操作方向。axis等于几，表示对哪个维度进行操作。对于二维数组来说，axis=0表示经度方向（对第一个维度操作，也就是跨行），axis=1表示纬度方向（对第二维操作，也就是跨列）。\n",
    "\n",
    "> reduce_mean和sum分别表示求平均值和和"
   ]
  },
  {
   "cell_type": "code",
   "execution_count": 18,
   "metadata": {},
   "outputs": [
    {
     "name": "stdout",
     "output_type": "stream",
     "text": [
      "<tf.Variable 'Variable:0' shape=() dtype=int64, numpy=5>\n"
     ]
    }
   ],
   "source": [
    "a = tf.Variable(tf.constant(5, dtype = tf.int64))\n",
    "print(a)"
   ]
  },
  {
   "cell_type": "markdown",
   "metadata": {},
   "source": [
    "> Variable可以将张量标记为可训练的，会在反向传播中记录梯度信息。神经网络训练中，常用该函数标记训练参数。"
   ]
  },
  {
   "cell_type": "code",
   "execution_count": 20,
   "metadata": {},
   "outputs": [
    {
     "name": "stdout",
     "output_type": "stream",
     "text": [
      "tf.Tensor([[8. 8. 8.]], shape=(1, 3), dtype=float32) tf.Tensor([[-6. -6. -6.]], shape=(1, 3), dtype=float32) tf.Tensor([[7. 7. 7.]], shape=(1, 3), dtype=float32) tf.Tensor([[0.14285715 0.14285715 0.14285715]], shape=(1, 3), dtype=float32)\n"
     ]
    }
   ],
   "source": [
    "x = tf.ones([1, 3])\n",
    "y = tf.fill([1, 3], 7.)\n",
    "r1 = tf.add(x, y)\n",
    "r2 = tf.subtract(x, y)\n",
    "r3 = tf.multiply(x, y)\n",
    "r4 = tf.divide(x, y)\n",
    "print(r1, r2, r3, r4)"
   ]
  },
  {
   "cell_type": "code",
   "execution_count": 21,
   "metadata": {},
   "outputs": [
    {
     "name": "stdout",
     "output_type": "stream",
     "text": [
      "tf.Tensor([[49. 49. 49.]], shape=(1, 3), dtype=float32)\n",
      "tf.Tensor([[49. 49. 49.]], shape=(1, 3), dtype=float32)\n",
      "tf.Tensor([[2.6457512 2.6457512 2.6457512]], shape=(1, 3), dtype=float32)\n"
     ]
    }
   ],
   "source": [
    "print(tf.square(y))\n",
    "print(tf.pow(y, 2))\n",
    "print(tf.sqrt(y))"
   ]
  },
  {
   "cell_type": "code",
   "execution_count": 23,
   "metadata": {},
   "outputs": [
    {
     "name": "stdout",
     "output_type": "stream",
     "text": [
      "tf.Tensor([[168.]], shape=(1, 1), dtype=float32)\n"
     ]
    }
   ],
   "source": [
    "z = tf.fill([3, 1], 8.)\n",
    "print(tf.matmul(y, z))"
   ]
  },
  {
   "cell_type": "code",
   "execution_count": 27,
   "metadata": {},
   "outputs": [
    {
     "name": "stdout",
     "output_type": "stream",
     "text": [
      "<TensorSliceDataset shapes: ((), ()), types: (tf.int32, tf.int32)>\n",
      "(<tf.Tensor: id=106, shape=(), dtype=int32, numpy=12>, <tf.Tensor: id=107, shape=(), dtype=int32, numpy=0>)\n",
      "(<tf.Tensor: id=108, shape=(), dtype=int32, numpy=15>, <tf.Tensor: id=109, shape=(), dtype=int32, numpy=1>)\n",
      "(<tf.Tensor: id=110, shape=(), dtype=int32, numpy=17>, <tf.Tensor: id=111, shape=(), dtype=int32, numpy=1>)\n",
      "(<tf.Tensor: id=112, shape=(), dtype=int32, numpy=10>, <tf.Tensor: id=113, shape=(), dtype=int32, numpy=0>)\n"
     ]
    }
   ],
   "source": [
    "x = tf.constant([12, 15, 17,10])\n",
    "label = tf.constant([0, 1, 1, 0])\n",
    "dataset = tf.data.Dataset.from_tensor_slices((x, label))\n",
    "print(dataset)\n",
    "for e in dataset:\n",
    "    print(e)"
   ]
  },
  {
   "cell_type": "markdown",
   "metadata": {},
   "source": [
    "> from_tensor_slices用于给特征和标签配对。"
   ]
  },
  {
   "cell_type": "code",
   "execution_count": null,
   "metadata": {},
   "outputs": [],
   "source": []
  }
 ],
 "metadata": {
  "kernelspec": {
   "display_name": "Python 3",
   "language": "python",
   "name": "python3"
  },
  "language_info": {
   "codemirror_mode": {
    "name": "ipython",
    "version": 3
   },
   "file_extension": ".py",
   "mimetype": "text/x-python",
   "name": "python",
   "nbconvert_exporter": "python",
   "pygments_lexer": "ipython3",
   "version": "3.7.4"
  }
 },
 "nbformat": 4,
 "nbformat_minor": 2
}
